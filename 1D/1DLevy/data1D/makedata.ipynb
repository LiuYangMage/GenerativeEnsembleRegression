{
 "cells": [
  {
   "cell_type": "code",
   "execution_count": 1,
   "metadata": {},
   "outputs": [],
   "source": [
    "import numpy as np\n",
    "import matplotlib.pyplot as plt\n",
    "import seaborn as sns\n",
    "from scipy.stats import levy_stable\n",
    "\n",
    "import matplotlib as mpl\n",
    "mpl.rcParams['lines.linewidth'] = 2\n",
    "\n",
    "%matplotlib inline\n",
    "%config InlineBackend.figure_format = 'retina'\n",
    "\n",
    "from scipy import stats"
   ]
  },
  {
   "cell_type": "code",
   "execution_count": 2,
   "metadata": {},
   "outputs": [],
   "source": [
    "seed = 2\n",
    "dim = 1\n",
    "\n",
    "np.random.seed(seed)"
   ]
  },
  {
   "cell_type": "code",
   "execution_count": 3,
   "metadata": {},
   "outputs": [],
   "source": [
    "def drift(x):\n",
    "    '''\n",
    "    x: (bs, dim)\n",
    "    return: (bs, dim)\n",
    "    '''\n",
    "    drt = - x* (x-1) * (x+1)\n",
    "#     drt = np.clip(drt, -1000, 1000)\n",
    "#     drt = drt * 4\n",
    "    return drt"
   ]
  },
  {
   "cell_type": "code",
   "execution_count": 4,
   "metadata": {},
   "outputs": [
    {
     "name": "stdout",
     "output_type": "stream",
     "text": [
      "0 "
     ]
    },
    {
     "name": "stderr",
     "output_type": "stream",
     "text": [
      "/Users/liuyang/anaconda3/lib/python3.6/site-packages/ipykernel_launcher.py:6: RuntimeWarning: overflow encountered in multiply\n",
      "  \n",
      "/Users/liuyang/anaconda3/lib/python3.6/site-packages/ipykernel_launcher.py:14: RuntimeWarning: invalid value encountered in add\n",
      "  \n"
     ]
    },
    {
     "name": "stdout",
     "output_type": "stream",
     "text": [
      "10 20 30 40 50 60 70 80 90 100 110 120 130 140 150 160 170 180 190 200 210 220 230 240 250 260 270 280 290 300 310 320 330 340 350 360 370 380 390 400 410 420 430 440 450 460 470 480 490 "
     ]
    }
   ],
   "source": [
    "ref_bs = 150000\n",
    "ref_dt = 0.01\n",
    "ref_steps = 500\n",
    "ref_sigma = 1.0\n",
    "ref_alpha = 1.5\n",
    "ref = np.zeros([ref_steps + 1, ref_bs, dim])\n",
    "ref[0,...] = np.random.normal(0,0.2,[ref_bs, dim])\n",
    "ddt = ref_dt**(1/ref_alpha)\n",
    "\n",
    "for i in range(ref_steps):\n",
    "#     lvr = levy_stable.rvs(ref_alpha, 0, size= ref_bs * dim).reshape((ref_bs,dim))\n",
    "    lvr = levy_stable.rvs(ref_alpha, 0, size= [ref_bs,dim])\n",
    "#     print(ref[i,...].shape,drift(ref[i,...]).shape, lvr.shape)\n",
    "    ref[i+1,...] = ref[i,...] + ref_dt * drift(ref[i,...]) + 1 * ddt * lvr\n",
    "    \n",
    "    if i %10 == 0:\n",
    "        print(i, end = \" \")\n",
    "#         print(np.max(ref[i+1,...]), np.max(ref_dt * drift(ref[i,...])) , np.std(ddt * lvr))\n"
   ]
  },
  {
   "cell_type": "code",
   "execution_count": 5,
   "metadata": {},
   "outputs": [
    {
     "name": "stdout",
     "output_type": "stream",
     "text": [
      "(150000, 1)\n",
      "(149792, 1)\n",
      "(149436, 1)\n",
      "(148925, 1)\n",
      "(144509, 1)\n"
     ]
    }
   ],
   "source": [
    "ref_useful = {}\n",
    "for i in [0, 20, 50, 100, 500]:\n",
    "    useful = []\n",
    "    for ind in range(ref_bs):\n",
    "        if np.max(ref[i,ind,:])<1000 and np.min(ref[i,ind,:])>-1000:\n",
    "            useful.append(ind)\n",
    "    ref_useful[i] = ref[i,useful,:]\n",
    "    print(ref_useful[i].shape)\n",
    "    \n",
    "    np.savez(\"ref_{}.npz\".format(i), ref = ref_useful[i])"
   ]
  }
 ],
 "metadata": {
  "kernelspec": {
   "display_name": "Python 3",
   "language": "python",
   "name": "python3"
  },
  "language_info": {
   "codemirror_mode": {
    "name": "ipython",
    "version": 3
   },
   "file_extension": ".py",
   "mimetype": "text/x-python",
   "name": "python",
   "nbconvert_exporter": "python",
   "pygments_lexer": "ipython3",
   "version": "3.6.8"
  },
  "varInspector": {
   "cols": {
    "lenName": 16,
    "lenType": 16,
    "lenVar": 40
   },
   "kernels_config": {
    "python": {
     "delete_cmd_postfix": "",
     "delete_cmd_prefix": "del ",
     "library": "var_list.py",
     "varRefreshCmd": "print(var_dic_list())"
    },
    "r": {
     "delete_cmd_postfix": ") ",
     "delete_cmd_prefix": "rm(",
     "library": "var_list.r",
     "varRefreshCmd": "cat(var_dic_list()) "
    }
   },
   "position": {
    "height": "364px",
    "left": "567px",
    "right": "20px",
    "top": "317px",
    "width": "350px"
   },
   "types_to_exclude": [
    "module",
    "function",
    "builtin_function_or_method",
    "instance",
    "_Feature"
   ],
   "window_display": false
  }
 },
 "nbformat": 4,
 "nbformat_minor": 2
}
